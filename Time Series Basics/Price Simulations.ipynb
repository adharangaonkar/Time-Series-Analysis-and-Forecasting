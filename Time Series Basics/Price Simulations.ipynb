{
 "cells": [
  {
   "cell_type": "code",
   "execution_count": 1,
   "id": "1901910c",
   "metadata": {},
   "outputs": [],
   "source": [
    "import numpy as np\n",
    "import matplotlib.pyplot as plt"
   ]
  },
  {
   "cell_type": "code",
   "execution_count": 2,
   "id": "0584a4d6",
   "metadata": {},
   "outputs": [],
   "source": [
    "#number of time steps\n",
    "T = 1000\n",
    "\n",
    "# initial price\n",
    "P0 = 10\n",
    "\n",
    "# drift\n",
    "mu = 0.001"
   ]
  },
  {
   "cell_type": "code",
   "execution_count": null,
   "id": "43694e87",
   "metadata": {},
   "outputs": [],
   "source": [
    "# last log price"
   ]
  }
 ],
 "metadata": {
  "kernelspec": {
   "display_name": "time_series",
   "language": "python",
   "name": "time_series"
  },
  "language_info": {
   "codemirror_mode": {
    "name": "ipython",
    "version": 3
   },
   "file_extension": ".py",
   "mimetype": "text/x-python",
   "name": "python",
   "nbconvert_exporter": "python",
   "pygments_lexer": "ipython3",
   "version": "3.8.5"
  }
 },
 "nbformat": 4,
 "nbformat_minor": 5
}
